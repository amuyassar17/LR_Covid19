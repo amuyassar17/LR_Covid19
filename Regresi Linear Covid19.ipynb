{
 "cells": [
  {
   "cell_type": "markdown",
   "metadata": {},
   "source": [
    "# Predeksi Covid-19 Prov SULSEL dengan Linear Regression "
   ]
  },
  {
   "cell_type": "markdown",
   "metadata": {},
   "source": [
    "1. Memanggil Library yang dibutuhkan"
   ]
  },
  {
   "cell_type": "code",
   "execution_count": 1,
   "metadata": {},
   "outputs": [],
   "source": [
    "import numpy as np\n",
    "import pandas as pd\n",
    "import matplotlib.pyplot as plt\n",
    "import sklearn"
   ]
  },
  {
   "cell_type": "markdown",
   "metadata": {},
   "source": [
    "2. Memanggil Dataset"
   ]
  },
  {
   "cell_type": "code",
   "execution_count": 5,
   "metadata": {},
   "outputs": [
    {
     "data": {
      "text/html": [
       "<div>\n",
       "<style scoped>\n",
       "    .dataframe tbody tr th:only-of-type {\n",
       "        vertical-align: middle;\n",
       "    }\n",
       "\n",
       "    .dataframe tbody tr th {\n",
       "        vertical-align: top;\n",
       "    }\n",
       "\n",
       "    .dataframe thead th {\n",
       "        text-align: right;\n",
       "    }\n",
       "</style>\n",
       "<table border=\"1\" class=\"dataframe\">\n",
       "  <thead>\n",
       "    <tr style=\"text-align: right;\">\n",
       "      <th></th>\n",
       "      <th>index</th>\n",
       "      <th>Tanggal</th>\n",
       "      <th>Positif</th>\n",
       "      <th>Sembuh</th>\n",
       "      <th>Meninggal</th>\n",
       "      <th>ODP</th>\n",
       "      <th>PDP</th>\n",
       "    </tr>\n",
       "  </thead>\n",
       "  <tbody>\n",
       "    <tr>\n",
       "      <td>0</td>\n",
       "      <td>1</td>\n",
       "      <td>4/3/2020</td>\n",
       "      <td>14</td>\n",
       "      <td>4</td>\n",
       "      <td>6</td>\n",
       "      <td>420</td>\n",
       "      <td>49</td>\n",
       "    </tr>\n",
       "    <tr>\n",
       "      <td>1</td>\n",
       "      <td>2</td>\n",
       "      <td>4/4/2020</td>\n",
       "      <td>0</td>\n",
       "      <td>9</td>\n",
       "      <td>6</td>\n",
       "      <td>347</td>\n",
       "      <td>63</td>\n",
       "    </tr>\n",
       "    <tr>\n",
       "      <td>2</td>\n",
       "      <td>3</td>\n",
       "      <td>4/5/2020</td>\n",
       "      <td>2</td>\n",
       "      <td>19</td>\n",
       "      <td>7</td>\n",
       "      <td>94</td>\n",
       "      <td>28</td>\n",
       "    </tr>\n",
       "    <tr>\n",
       "      <td>3</td>\n",
       "      <td>4</td>\n",
       "      <td>4/6/2020</td>\n",
       "      <td>30</td>\n",
       "      <td>21</td>\n",
       "      <td>9</td>\n",
       "      <td>77</td>\n",
       "      <td>19</td>\n",
       "    </tr>\n",
       "    <tr>\n",
       "      <td>4</td>\n",
       "      <td>5</td>\n",
       "      <td>4/7/2020</td>\n",
       "      <td>10</td>\n",
       "      <td>23</td>\n",
       "      <td>11</td>\n",
       "      <td>91</td>\n",
       "      <td>24</td>\n",
       "    </tr>\n",
       "    <tr>\n",
       "      <td>5</td>\n",
       "      <td>6</td>\n",
       "      <td>4/8/2020</td>\n",
       "      <td>6</td>\n",
       "      <td>23</td>\n",
       "      <td>11</td>\n",
       "      <td>31</td>\n",
       "      <td>18</td>\n",
       "    </tr>\n",
       "    <tr>\n",
       "      <td>6</td>\n",
       "      <td>7</td>\n",
       "      <td>4/9/2020</td>\n",
       "      <td>7</td>\n",
       "      <td>23</td>\n",
       "      <td>13</td>\n",
       "      <td>81</td>\n",
       "      <td>5</td>\n",
       "    </tr>\n",
       "    <tr>\n",
       "      <td>7</td>\n",
       "      <td>8</td>\n",
       "      <td>4/10/2020</td>\n",
       "      <td>33</td>\n",
       "      <td>23</td>\n",
       "      <td>14</td>\n",
       "      <td>70</td>\n",
       "      <td>17</td>\n",
       "    </tr>\n",
       "    <tr>\n",
       "      <td>8</td>\n",
       "      <td>9</td>\n",
       "      <td>4/11/2020</td>\n",
       "      <td>10</td>\n",
       "      <td>30</td>\n",
       "      <td>14</td>\n",
       "      <td>69</td>\n",
       "      <td>36</td>\n",
       "    </tr>\n",
       "    <tr>\n",
       "      <td>9</td>\n",
       "      <td>10</td>\n",
       "      <td>4/12/2020</td>\n",
       "      <td>28</td>\n",
       "      <td>30</td>\n",
       "      <td>16</td>\n",
       "      <td>22</td>\n",
       "      <td>0</td>\n",
       "    </tr>\n",
       "    <tr>\n",
       "      <td>10</td>\n",
       "      <td>11</td>\n",
       "      <td>4/13/2020</td>\n",
       "      <td>1</td>\n",
       "      <td>34</td>\n",
       "      <td>16</td>\n",
       "      <td>54</td>\n",
       "      <td>22</td>\n",
       "    </tr>\n",
       "    <tr>\n",
       "      <td>11</td>\n",
       "      <td>12</td>\n",
       "      <td>4/14/2020</td>\n",
       "      <td>7</td>\n",
       "      <td>39</td>\n",
       "      <td>18</td>\n",
       "      <td>23</td>\n",
       "      <td>16</td>\n",
       "    </tr>\n",
       "    <tr>\n",
       "      <td>12</td>\n",
       "      <td>13</td>\n",
       "      <td>4/15/2020</td>\n",
       "      <td>9</td>\n",
       "      <td>42</td>\n",
       "      <td>22</td>\n",
       "      <td>3</td>\n",
       "      <td>7</td>\n",
       "    </tr>\n",
       "    <tr>\n",
       "      <td>13</td>\n",
       "      <td>14</td>\n",
       "      <td>4/16/2020</td>\n",
       "      <td>8</td>\n",
       "      <td>43</td>\n",
       "      <td>22</td>\n",
       "      <td>47</td>\n",
       "      <td>11</td>\n",
       "    </tr>\n",
       "    <tr>\n",
       "      <td>14</td>\n",
       "      <td>15</td>\n",
       "      <td>4/17/2020</td>\n",
       "      <td>19</td>\n",
       "      <td>44</td>\n",
       "      <td>22</td>\n",
       "      <td>350</td>\n",
       "      <td>23</td>\n",
       "    </tr>\n",
       "    <tr>\n",
       "      <td>15</td>\n",
       "      <td>16</td>\n",
       "      <td>4/18/2020</td>\n",
       "      <td>10</td>\n",
       "      <td>49</td>\n",
       "      <td>25</td>\n",
       "      <td>-1</td>\n",
       "      <td>57</td>\n",
       "    </tr>\n",
       "    <tr>\n",
       "      <td>16</td>\n",
       "      <td>17</td>\n",
       "      <td>4/19/2020</td>\n",
       "      <td>27</td>\n",
       "      <td>60</td>\n",
       "      <td>26</td>\n",
       "      <td>96</td>\n",
       "      <td>33</td>\n",
       "    </tr>\n",
       "    <tr>\n",
       "      <td>17</td>\n",
       "      <td>18</td>\n",
       "      <td>4/20/2020</td>\n",
       "      <td>92</td>\n",
       "      <td>70</td>\n",
       "      <td>27</td>\n",
       "      <td>28</td>\n",
       "      <td>9</td>\n",
       "    </tr>\n",
       "    <tr>\n",
       "      <td>18</td>\n",
       "      <td>19</td>\n",
       "      <td>4/21/2020</td>\n",
       "      <td>5</td>\n",
       "      <td>74</td>\n",
       "      <td>32</td>\n",
       "      <td>64</td>\n",
       "      <td>41</td>\n",
       "    </tr>\n",
       "    <tr>\n",
       "      <td>19</td>\n",
       "      <td>20</td>\n",
       "      <td>4/22/2020</td>\n",
       "      <td>13</td>\n",
       "      <td>79</td>\n",
       "      <td>33</td>\n",
       "      <td>64</td>\n",
       "      <td>16</td>\n",
       "    </tr>\n",
       "    <tr>\n",
       "      <td>20</td>\n",
       "      <td>21</td>\n",
       "      <td>4/23/2020</td>\n",
       "      <td>10</td>\n",
       "      <td>80</td>\n",
       "      <td>35</td>\n",
       "      <td>22</td>\n",
       "      <td>20</td>\n",
       "    </tr>\n",
       "    <tr>\n",
       "      <td>21</td>\n",
       "      <td>22</td>\n",
       "      <td>4/24/2020</td>\n",
       "      <td>22</td>\n",
       "      <td>82</td>\n",
       "      <td>35</td>\n",
       "      <td>233</td>\n",
       "      <td>24</td>\n",
       "    </tr>\n",
       "    <tr>\n",
       "      <td>22</td>\n",
       "      <td>23</td>\n",
       "      <td>4/25/2020</td>\n",
       "      <td>13</td>\n",
       "      <td>98</td>\n",
       "      <td>35</td>\n",
       "      <td>28</td>\n",
       "      <td>45</td>\n",
       "    </tr>\n",
       "    <tr>\n",
       "      <td>23</td>\n",
       "      <td>24</td>\n",
       "      <td>4/26/2020</td>\n",
       "      <td>8</td>\n",
       "      <td>105</td>\n",
       "      <td>36</td>\n",
       "      <td>113</td>\n",
       "      <td>62</td>\n",
       "    </tr>\n",
       "    <tr>\n",
       "      <td>24</td>\n",
       "      <td>25</td>\n",
       "      <td>4/27/2020</td>\n",
       "      <td>0</td>\n",
       "      <td>107</td>\n",
       "      <td>37</td>\n",
       "      <td>32</td>\n",
       "      <td>16</td>\n",
       "    </tr>\n",
       "    <tr>\n",
       "      <td>25</td>\n",
       "      <td>26</td>\n",
       "      <td>4/28/2020</td>\n",
       "      <td>13</td>\n",
       "      <td>115</td>\n",
       "      <td>37</td>\n",
       "      <td>19</td>\n",
       "      <td>0</td>\n",
       "    </tr>\n",
       "    <tr>\n",
       "      <td>26</td>\n",
       "      <td>27</td>\n",
       "      <td>4/29/2020</td>\n",
       "      <td>12</td>\n",
       "      <td>122</td>\n",
       "      <td>37</td>\n",
       "      <td>55</td>\n",
       "      <td>47</td>\n",
       "    </tr>\n",
       "    <tr>\n",
       "      <td>27</td>\n",
       "      <td>28</td>\n",
       "      <td>4/30/2020</td>\n",
       "      <td>26</td>\n",
       "      <td>135</td>\n",
       "      <td>37</td>\n",
       "      <td>147</td>\n",
       "      <td>12</td>\n",
       "    </tr>\n",
       "    <tr>\n",
       "      <td>28</td>\n",
       "      <td>29</td>\n",
       "      <td>5/1/2020</td>\n",
       "      <td>56</td>\n",
       "      <td>145</td>\n",
       "      <td>39</td>\n",
       "      <td>43</td>\n",
       "      <td>10</td>\n",
       "    </tr>\n",
       "    <tr>\n",
       "      <td>29</td>\n",
       "      <td>30</td>\n",
       "      <td>5/2/2020</td>\n",
       "      <td>30</td>\n",
       "      <td>151</td>\n",
       "      <td>40</td>\n",
       "      <td>9</td>\n",
       "      <td>10</td>\n",
       "    </tr>\n",
       "    <tr>\n",
       "      <td>30</td>\n",
       "      <td>31</td>\n",
       "      <td>5/3/2020</td>\n",
       "      <td>24</td>\n",
       "      <td>200</td>\n",
       "      <td>42</td>\n",
       "      <td>37</td>\n",
       "      <td>34</td>\n",
       "    </tr>\n",
       "  </tbody>\n",
       "</table>\n",
       "</div>"
      ],
      "text/plain": [
       "    index    Tanggal  Positif  Sembuh  Meninggal  ODP  PDP\n",
       "0       1   4/3/2020       14       4          6  420   49\n",
       "1       2   4/4/2020        0       9          6  347   63\n",
       "2       3   4/5/2020        2      19          7   94   28\n",
       "3       4   4/6/2020       30      21          9   77   19\n",
       "4       5   4/7/2020       10      23         11   91   24\n",
       "5       6   4/8/2020        6      23         11   31   18\n",
       "6       7   4/9/2020        7      23         13   81    5\n",
       "7       8  4/10/2020       33      23         14   70   17\n",
       "8       9  4/11/2020       10      30         14   69   36\n",
       "9      10  4/12/2020       28      30         16   22    0\n",
       "10     11  4/13/2020        1      34         16   54   22\n",
       "11     12  4/14/2020        7      39         18   23   16\n",
       "12     13  4/15/2020        9      42         22    3    7\n",
       "13     14  4/16/2020        8      43         22   47   11\n",
       "14     15  4/17/2020       19      44         22  350   23\n",
       "15     16  4/18/2020       10      49         25   -1   57\n",
       "16     17  4/19/2020       27      60         26   96   33\n",
       "17     18  4/20/2020       92      70         27   28    9\n",
       "18     19  4/21/2020        5      74         32   64   41\n",
       "19     20  4/22/2020       13      79         33   64   16\n",
       "20     21  4/23/2020       10      80         35   22   20\n",
       "21     22  4/24/2020       22      82         35  233   24\n",
       "22     23  4/25/2020       13      98         35   28   45\n",
       "23     24  4/26/2020        8     105         36  113   62\n",
       "24     25  4/27/2020        0     107         37   32   16\n",
       "25     26  4/28/2020       13     115         37   19    0\n",
       "26     27  4/29/2020       12     122         37   55   47\n",
       "27     28  4/30/2020       26     135         37  147   12\n",
       "28     29   5/1/2020       56     145         39   43   10\n",
       "29     30   5/2/2020       30     151         40    9   10\n",
       "30     31   5/3/2020       24     200         42   37   34"
      ]
     },
     "execution_count": 5,
     "metadata": {},
     "output_type": "execute_result"
    }
   ],
   "source": [
    "dataset = pd.read_csv('Data Sulsel.csv')\n",
    "tanggal = dataset['Tanggal']\n",
    "x = dataset['index']\n",
    "yPo = dataset['Positif']\n",
    "yO = dataset['ODP']\n",
    "yP = dataset['PDP']\n",
    "dataset"
   ]
  },
  {
   "cell_type": "markdown",
   "metadata": {},
   "source": [
    "3. Menampilkan Grafik Data Asli"
   ]
  },
  {
   "cell_type": "code",
   "execution_count": 10,
   "metadata": {},
   "outputs": [
    {
     "data": {
      "image/png": "[encoded data removed]",
      "text/plain": [
       "<Figure size 432x288 with 1 Axes>"
      ]
     },
     "metadata": {
      "needs_background": "light"
     },
     "output_type": "display_data"
    }
   ],
   "source": [
    "dataku = pd.DataFrame(dataset)\n",
    "plt.scatter(dataku.index, dataku.Positif, c='g')\n",
    "plt.plot(dataku.index, dataku.Positif)\n",
    "plt.xlabel(\"Hari\")\n",
    "plt.ylabel(\"Kasus Positif\")\n",
    "plt.title(\"Grafik Penyebaran Kasus Positif Sulsel\")\n",
    "plt.show()"
   ]
  },
  {
   "cell_type": "code",
   "execution_count": 12,
   "metadata": {},
   "outputs": [
    {
     "data": {
      "image/png": "[encoded data removed]",
      "text/plain": [
       "<Figure size 432x288 with 1 Axes>"
      ]
     },
     "metadata": {
      "needs_background": "light"
     },
     "output_type": "display_data"
    }
   ],
   "source": [
    "plt.scatter(x, yP, c='g')\n",
    "plt.plot(x, yP)\n",
    "plt.xlabel(\"Hari\")\n",
    "plt.ylabel(\"Total Kasus\")\n",
    "plt.title(\"Grafik Penyebaran PDP Sulsel\")\n",
    "plt.show()"
   ]
  },
  {
   "cell_type": "markdown",
   "metadata": {},
   "source": [
    "4. Implementasi Metode Linear Regression"
   ]
  },
  {
   "cell_type": "code",
   "execution_count": 13,
   "metadata": {},
   "outputs": [],
   "source": [
    "prediksi = (\n",
    "    '4 Mei 2020',\n",
    "    '5 Mei 2020',\n",
    "    '6 Mei 2020',\n",
    "    '7 Mei 2020',\n",
    "    '8 Mei 2020',\n",
    "    '9 Mei 2020',\n",
    "    '10 Mei 2020',\n",
    "    '11 Mei 2020',\n",
    "    '12 Mei 2020',\n",
    "    '13 Mei 2020',\n",
    ")"
   ]
  },
  {
   "cell_type": "code",
   "execution_count": 15,
   "metadata": {},
   "outputs": [
    {
     "data": {
      "text/plain": [
       "LinearRegression(copy_X=True, fit_intercept=True, n_jobs=None, normalize=False)"
      ]
     },
     "execution_count": 15,
     "metadata": {},
     "output_type": "execute_result"
    }
   ],
   "source": [
    "from sklearn.linear_model import LinearRegression\n",
    "X = x.values.reshape(-1,1)\n",
    "Y = yPo.values.reshape(-1,1)\n",
    "Y1= yP.values.reshape(-1,1)\n",
    "regressor = LinearRegression()\n",
    "regressor.fit(X, Y)\n",
    "regressor1 = LinearRegression()\n",
    "regressor1.fit(X,Y1)"
   ]
  },
  {
   "cell_type": "markdown",
   "metadata": {},
   "source": [
    "PREDIKSI KASUS POSITIF COVID-19 SULAWESI SELATAN (4-13 Mei 2020)"
   ]
  },
  {
   "cell_type": "code",
   "execution_count": 16,
   "metadata": {},
   "outputs": [
    {
     "name": "stdout",
     "output_type": "stream",
     "text": [
      "Nilai Koefisien m =  [[0.5125]]\n",
      "Nilai koefisien c =  [9.38064516]\n",
      "Model Linear (Y = mx + c): Y = 0.5125X + 9.3806\n"
     ]
    }
   ],
   "source": [
    "lin_reg = LinearRegression()\n",
    "lin_reg.fit(X,Y)\n",
    "print('Nilai Koefisien m = ',lin_reg.coef_) #b0\n",
    "print('Nilai koefisien c = ',lin_reg.intercept_) #b1\n",
    "print(\"Model Linear (Y = mx + c): Y = {:.5}X + {:.5}\".format(lin_reg.coef_[0][0], lin_reg.intercept_[0]))\n"
   ]
  },
  {
   "cell_type": "code",
   "execution_count": 18,
   "metadata": {},
   "outputs": [
    {
     "data": {
      "text/plain": [
       "[<matplotlib.lines.Line2D at 0x1f95401da48>]"
      ]
     },
     "execution_count": 18,
     "metadata": {},
     "output_type": "execute_result"
    },
    {
     "data": {
      "image/png": "[encoded data removed]",
      "text/plain": [
       "<Figure size 720x432 with 1 Axes>"
      ]
     },
     "metadata": {
      "needs_background": "light"
     },
     "output_type": "display_data"
    }
   ],
   "source": [
    "plt.figure(figsize=(10, 6))\n",
    "plt.title(\"Pertumbuhan Kasus Positif\")\n",
    "plt.xlabel('Hari')\n",
    "plt.ylabel('Jumlah Positif')\n",
    "plt.scatter(x, yPo,  c='g')\n",
    "plt.plot(x, lin_reg.predict(X),  c='r')"
   ]
  },
  {
   "cell_type": "code",
   "execution_count": 19,
   "metadata": {},
   "outputs": [
    {
     "name": "stdout",
     "output_type": "stream",
     "text": [
      "4 Mei 2020 : 25  kasus\n",
      "5 Mei 2020 : 26  kasus\n",
      "6 Mei 2020 : 26  kasus\n",
      "7 Mei 2020 : 27  kasus\n",
      "8 Mei 2020 : 27  kasus\n",
      "9 Mei 2020 : 28  kasus\n",
      "10 Mei 2020 : 28  kasus\n",
      "11 Mei 2020 : 29  kasus\n",
      "12 Mei 2020 : 29  kasus\n",
      "13 Mei 2020 : 30  kasus\n"
     ]
    }
   ],
   "source": [
    "x_ = np.size(x)+1\n",
    "for tanggal in prediksi:\n",
    "        print(tanggal ,':', int(lin_reg.predict([[x_]])),' kasus')\n",
    "        x_ +=1"
   ]
  },
  {
   "cell_type": "markdown",
   "metadata": {},
   "source": [
    "PREDIKSI TOTAL KASUS PDP SULSEL (4 - 13 Mei 2020)"
   ]
  },
  {
   "cell_type": "code",
   "execution_count": 20,
   "metadata": {},
   "outputs": [
    {
     "name": "stdout",
     "output_type": "stream",
     "text": [
      "Nilai Koefisien m =  [[-0.18064516]]\n",
      "Nilai koefisien c =  [27.85806452]\n",
      "Persamaan Linear (Y = mx + c): Y = -0.18065X + 27.858\n"
     ]
    }
   ],
   "source": [
    "lin_reg1 = LinearRegression()\n",
    "lin_reg1.fit(X, Y1)\n",
    "print('Nilai Koefisien m = ',lin_reg1.coef_)\n",
    "print('Nilai koefisien c = ',lin_reg1.intercept_)\n",
    "print(\"Persamaan Linear (Y = mx + c): Y = {:.5}X + {:.5}\".format(lin_reg1.coef_[0][0], lin_reg1.intercept_[0]))"
   ]
  },
  {
   "cell_type": "code",
   "execution_count": 22,
   "metadata": {},
   "outputs": [
    {
     "data": {
      "text/plain": [
       "[<matplotlib.lines.Line2D at 0x1f954038c88>]"
      ]
     },
     "execution_count": 22,
     "metadata": {},
     "output_type": "execute_result"
    },
    {
     "data": {
      "image/png": "[encoded data removed]",
      "text/plain": [
       "<Figure size 720x432 with 1 Axes>"
      ]
     },
     "metadata": {
      "needs_background": "light"
     },
     "output_type": "display_data"
    }
   ],
   "source": [
    "plt.figure(figsize=(10, 6))\n",
    "plt.title(\"Pertumbuhan PDP Sulsel\")\n",
    "plt.xlabel('Hari')\n",
    "plt.ylabel('Total Kasus')\n",
    "plt.scatter(x, yP,  c='g')\n",
    "plt.plot(x, lin_reg1.predict(X),  c='r')"
   ]
  },
  {
   "cell_type": "code",
   "execution_count": 23,
   "metadata": {},
   "outputs": [
    {
     "name": "stdout",
     "output_type": "stream",
     "text": [
      "4 Mei 2020 : 22  kasus\n",
      "5 Mei 2020 : 21  kasus\n",
      "6 Mei 2020 : 21  kasus\n",
      "7 Mei 2020 : 21  kasus\n",
      "8 Mei 2020 : 21  kasus\n",
      "9 Mei 2020 : 21  kasus\n",
      "10 Mei 2020 : 20  kasus\n",
      "11 Mei 2020 : 20  kasus\n",
      "12 Mei 2020 : 20  kasus\n",
      "13 Mei 2020 : 20  kasus\n"
     ]
    }
   ],
   "source": [
    "x_ = np.size(x)+1\n",
    "for tanggal in prediksi:\n",
    "        print(tanggal ,':', int(lin_reg1.predict([[x_]])),' kasus')\n",
    "        x_ +=1"
   ]
  },
  {
   "cell_type": "markdown",
   "metadata": {},
   "source": [
    "5. Prediksi tanpa menggunakan library untuk 5 hari ke depan mulai (4 Mei - 13 Mei 2020)"
   ]
  },
  {
   "cell_type": "code",
   "execution_count": 27,
   "metadata": {},
   "outputs": [],
   "source": [
    "def persamaan_linear(x, y):\n",
    "    n = np.size(x)\n",
    "    m = ((np.sum(y) * np.sum(x*x)) - (np.sum(x) * np.sum(x*y))) / ((n * np.sum(x*x)) - np.power(np.sum(x), 2)) #b1\n",
    "    c = ((n * np.sum(x*y)) - (np.sum(x) * np.sum(y))) / ((n * np.sum(x*x)) - np.power(np.sum(x), 2)) #b0\n",
    "    return m, c\n",
    "          \n",
    "def f_prediksi(konstanta, title=''):\n",
    "    print(title)\n",
    "    x_ = np.size(x)+1\n",
    "    for tanggal in prediksi:\n",
    "        y_ = konstanta[0] + konstanta[1]*x_\n",
    "        print(tanggal ,':', int(y_),' kasus')\n",
    "        x_ +=1\n",
    "        \n",
    "def r_squared(x, y_obs, b, title=''):\n",
    "    y_pred = []\n",
    "    for _x in x:\n",
    "        _y = b[0] + b[1]*_x\n",
    "        y_pred.append(_y)\n",
    "        \n",
    "    y_pred = np.array(y_pred)\n",
    "    y_mean = np.mean(y_obs)\n",
    "    sse = np.sum(np.power(y_obs - y_pred,2))\n",
    "    tss = np.sum(np.power(y_obs - y_mean,2))\n",
    "    r_square = 1 - (sse/tss)\n",
    "    print('Nilai R Square', title, 'adalah :', r_square)"
   ]
  },
  {
   "cell_type": "code",
   "execution_count": 29,
   "metadata": {},
   "outputs": [
    {
     "name": "stdout",
     "output_type": "stream",
     "text": [
      "Parameter :\n",
      "m = 0.5125 \n",
      "c =9.380645161290323 \n",
      "Persamaan Linear (Y = mx + c): Y = 0.5125X + 9.3806\n",
      "Nilai R Square Kasus Positif adalah : 0.06425493374996805\n"
     ]
    }
   ],
   "source": [
    "positif = persamaan_linear(x, yPo)\n",
    "print(\"Parameter :\\nm = {} \\nc ={} \".format(positif[1],positif[0]))\n",
    "print(\"Persamaan Linear (Y = mx + c): Y = {:.5}X + {:.5}\".format(positif[1],positif[0]))\n",
    "r_squared(x, yPo, positif, 'Kasus Positif')"
   ]
  },
  {
   "cell_type": "code",
   "execution_count": 30,
   "metadata": {},
   "outputs": [
    {
     "name": "stdout",
     "output_type": "stream",
     "text": [
      "Prediksi Pertambahan Kasus PositiCovid19 Pada Tanggal\n",
      "4 Mei 2020 : 25  kasus\n",
      "5 Mei 2020 : 26  kasus\n",
      "6 Mei 2020 : 26  kasus\n",
      "7 Mei 2020 : 27  kasus\n",
      "8 Mei 2020 : 27  kasus\n",
      "9 Mei 2020 : 28  kasus\n",
      "10 Mei 2020 : 28  kasus\n",
      "11 Mei 2020 : 29  kasus\n",
      "12 Mei 2020 : 29  kasus\n",
      "13 Mei 2020 : 30  kasus\n"
     ]
    }
   ],
   "source": [
    "f_prediksi(positif, 'Prediksi Pertambahan Kasus PositiCovid19 Pada Tanggal')"
   ]
  },
  {
   "cell_type": "code",
   "execution_count": 33,
   "metadata": {},
   "outputs": [
    {
     "name": "stdout",
     "output_type": "stream",
     "text": [
      "Parameter :\n",
      "m = -0.18064516129032257 \n",
      "c =27.858064516129033 \n",
      "Persamaan Linear (Y = mx + c): Y = -0.18065X + 27.858\n",
      "Nilai R Square Kasus Positif adalah : -0.3011544735035745\n"
     ]
    }
   ],
   "source": [
    "total_kasus = persamaan_linear(x, yP)\n",
    "print(\"Parameter :\\nm = {} \\nc ={} \".format(total_kasus[1],total_kasus[0]))\n",
    "print(\"Persamaan Linear (Y = mx + c): Y = {:.5}X + {:.5}\".format(total_kasus[1],total_kasus[0]))\n",
    "r_squared(x, yP, positif, 'Kasus Positif')"
   ]
  },
  {
   "cell_type": "code",
   "execution_count": 32,
   "metadata": {},
   "outputs": [
    {
     "name": "stdout",
     "output_type": "stream",
     "text": [
      "Prediksi Total Kasus Covid-19 Pada Tanggal\n",
      "4 Mei 2020 : 22  kasus\n",
      "5 Mei 2020 : 21  kasus\n",
      "6 Mei 2020 : 21  kasus\n",
      "7 Mei 2020 : 21  kasus\n",
      "8 Mei 2020 : 21  kasus\n",
      "9 Mei 2020 : 21  kasus\n",
      "10 Mei 2020 : 20  kasus\n",
      "11 Mei 2020 : 20  kasus\n",
      "12 Mei 2020 : 20  kasus\n",
      "13 Mei 2020 : 20  kasus\n"
     ]
    }
   ],
   "source": [
    "f_prediksi(total_kasus, 'Prediksi Pertambah Kasus PDP Covid-19 Pada Tanggal')"
   ]
  },
  {
   "cell_type": "code",
   "execution_count": null,
   "metadata": {},
   "outputs": [],
   "source": []
  }
 ],
 "metadata": {
  "kernelspec": {
   "display_name": "Python 3",
   "language": "python",
   "name": "python3"
  },
  "language_info": {
   "codemirror_mode": {
    "name": "ipython",
    "version": 3
   },
   "file_extension": ".py",
   "mimetype": "text/x-python",
   "name": "python",
   "nbconvert_exporter": "python",
   "pygments_lexer": "ipython3",
   "version": "3.7.4"
  }
 },
 "nbformat": 4,
 "nbformat_minor": 2
}
